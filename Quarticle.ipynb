{
 "cells": [
  {
   "cell_type": "code",
   "execution_count": null,
   "metadata": {},
   "outputs": [],
   "source": [
    "import pandas as pd\n",
    "\n",
    "data = {\n",
    "    'Perception': [\n",
    "        'Is offered by a brand I trust', 'Helps build credit quickly', 'Is different from other cards',\n",
    "        'Is easy to use', 'Has appealing benefits or rewards', 'Rewards me for responsible usage',\n",
    "        'Is used by a lot of people', 'Provides outstanding customer service', 'Makes a difference in my life'\n",
    "    ],\n",
    "    'Pearson Correlations': [13.3, 10.0, 9.6, 11.1, 10.8, 10.1, 8.9, 13.0, 13.2],\n",
    "    'Polychoric Correlations': [12.9, 9.9, 10.0, 10.9, 10.6, 10.1, 8.9, 13.0, 13.8],\n",
    "    'Standardized Multiple Regression Coefficients': [24.8, 4.3, 6.3, 4.7, 7.3, 1.1, 3.6, 18.9, 29.1],\n",
    "    'LMG / Shapley Values': [19.8, 6.6, 6.7, 8.5, 8.4, 6.3, 5.2, 16.9, 21.6],\n",
    "    'Johnson\\'s Epsilon': [19.8, 6.6, 7.0, 8.2, 8.3, 6.0, 5.4, 16.6, 22.0],\n",
    "    'Mean Decrease in RF Gini Coefficient': [11.3, 11.1, 10.3, 10.9, 11.0, 11.2, 11.3, 10.9, 12.0]\n",
    "}\n",
    "\n",
    "df = pd.DataFrame(data)\n",
    "\n",
    "styled_df = df.style.background_gradient(cmap='Greens', axis=None, vmin=1.1, vmax=29.1)\n",
    "\n",
    "styled_df"
   ]
  },
  {
   "cell_type": "markdown",
   "metadata": {},
   "source": [
    "---\n",
    "title: \"Scaled Colored Table with Quarto and Python\"\n",
    "format: html\n",
    "---\n",
    "\n",
    "```{python}\n",
    "import pandas as pd\n",
    "\n",
    "# Sample data\n",
    "data = {\n",
    "    'Perception': [\n",
    "        'Is offered by a brand I trust', 'Helps build credit quickly', 'Is different from other cards',\n",
    "        'Is easy to use', 'Has appealing benefits or rewards', 'Rewards me for responsible usage',\n",
    "        'Is used by a lot of people', 'Provides outstanding customer service', 'Makes a difference in my life'\n",
    "    ],\n",
    "    'Pearson Correlations': [13.3, 10.0, 9.6, 11.1, 10.8, 10.1, 8.9, 13.0, 13.2],\n",
    "    'Polychoric Correlations': [12.9, 9.9, 10.0, 10.9, 10.6, 10.1, 8.9, 13.0, 13.8],\n",
    "    'Standardized Multiple Regression Coefficients': [24.8, 4.3, 6.3, 4.7, 7.3, 1.1, 3.6, 18.9, 29.1],\n",
    "    'LMG / Shapley Values': [19.8, 6.6, 6.7, 8.5, 8.4, 6.3, 5.2, 16.9, 21.6],\n",
    "    'Johnson\\'s Epsilon': [19.8, 6.6, 7.0, 8.2, 8.3, 6.0, 5.4, 16.6, 22.0],\n",
    "    'Mean Decrease in RF Gini Coefficient': [11.3, 11.1, 10.3, 10.9, 11.0, 11.2, 11.3, 10.9, 12.0]\n",
    "}\n",
    "\n",
    "df = pd.DataFrame(data)\n",
    "\n",
    "# Apply gradient styling\n",
    "styled_df = df.style.background_gradient(cmap='Greens', axis=None, vmin=1.1, vmax=29.1)\n",
    "\n",
    "# Display styled DataFrame\n",
    "styled_df"
   ]
  }
 ],
 "metadata": {
  "language_info": {
   "name": "python"
  }
 },
 "nbformat": 4,
 "nbformat_minor": 2
}
