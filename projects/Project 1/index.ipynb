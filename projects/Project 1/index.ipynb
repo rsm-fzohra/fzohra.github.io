{
  "cells": [
    {
      "cell_type": "raw",
      "metadata": {},
      "source": [
        "---\n",
        "title: \"A Replication of Karlan and List (2007)\"\n",
        "author: \"Your Name\"\n",
        "date: today\n",
        "callout-appearance: minimal # this hides the blue \"i\" icon on .callout-notes\n",
        "---"
      ],
      "id": "6cc285ea"
    },
    {
      "cell_type": "markdown",
      "metadata": {},
      "source": [
        "## Introduction\n",
        "\n",
        "Dean Karlan at Yale and John List at the University of Chicago conducted a field experiment to test the effectiveness of different fundraising letters. They sent out 50,000 fundraising letters to potential donors, randomly assigning each letter to one of three treatments: a standard letter, a matching grant letter, or a challenge grant letter. They published the results of this experiment in the _American Economic Review_ in 2007. The article and supporting data are available from the [AEA website](https://www.aeaweb.org/articles?id=10.1257/aer.97.5.1774) and from Innovations for Poverty Action as part of [Harvard's Dataverse](https://dataverse.harvard.edu/dataset.xhtml?persistentId=doi:10.7910/DVN/27853&version=4.2).\n",
        "\n",
        "_to do: expand on the description of the experiment._\n",
        "\n",
        "This project seeks to replicate their results.\n",
        "\n",
        "\n",
        "## Data\n",
        "\n",
        "### Description"
      ],
      "id": "a4767f58"
    },
    {
      "cell_type": "code",
      "metadata": {},
      "source": [
        "import pandas as pd\n",
        "import numpy as np\n",
        "data = pd.read_stata('karlan_list_2007.dta')\n",
        "data.describe()\n",
        "# print(np.sum(data['treatment']==1))\n",
        "# print(np.sum(data['control']==0))"
      ],
      "id": "eae3505b",
      "execution_count": null,
      "outputs": []
    },
    {
      "cell_type": "markdown",
      "metadata": {},
      "source": [
        ":::: {.callout-note collapse=\"true\"}\n",
        "### Variable Definitions\n",
        "\n",
        "| Variable             | Description                                                         |\n",
        "|----------------------|---------------------------------------------------------------------|\n",
        "| `treatment`          | Treatment                                                           |\n",
        "| `control`            | Control                                                             |\n",
        "| `ratio`              | Match ratio                                                         |\n",
        "| `ratio2`             | 2:1 match ratio                                                     |\n",
        "| `ratio3`             | 3:1 match ratio                                                     |\n",
        "| `size`               | Match threshold                                                     |\n",
        "| `size25`             | \\$25,000 match threshold                                            |\n",
        "| `size50`             | \\$50,000 match threshold                                            |\n",
        "| `size100`            | \\$100,000 match threshold                                           |\n",
        "| `sizeno`             | Unstated match threshold                                            |\n",
        "| `ask`                | Suggested donation amount                                           |\n",
        "| `askd1`              | Suggested donation was highest previous contribution                |\n",
        "| `askd2`              | Suggested donation was 1.25 x highest previous contribution         |\n",
        "| `askd3`              | Suggested donation was 1.50 x highest previous contribution         |\n",
        "| `ask1`               | Highest previous contribution (for suggestion)                      |\n",
        "| `ask2`               | 1.25 x highest previous contribution (for suggestion)               |\n",
        "| `ask3`               | 1.50 x highest previous contribution (for suggestion)               |\n",
        "| `amount`             | Dollars given                                                       |\n",
        "| `gave`               | Gave anything                                                       |\n",
        "| `amountchange`       | Change in amount given                                              |\n",
        "| `hpa`                | Highest previous contribution                                       |\n",
        "| `ltmedmra`           | Small prior donor: last gift was less than median \\$35              |\n",
        "| `freq`               | Number of prior donations                                           |\n",
        "| `years`              | Number of years since initial donation                              |\n",
        "| `year5`              | At least 5 years since initial donation                             |\n",
        "| `mrm2`               | Number of months since last donation                                |\n",
        "| `dormant`            | Already donated in 2005                                             |\n",
        "| `female`             | Female                                                              |\n",
        "| `couple`             | Couple                                                              |\n",
        "| `state50one`         | State tag: 1 for one observation of each of 50 states; 0 otherwise  |\n",
        "| `nonlit`             | Nonlitigation                                                       |\n",
        "| `cases`              | Court cases from state in 2004-5 in which organization was involved |\n",
        "| `statecnt`           | Percent of sample from state                                        |\n",
        "| `stateresponse`      | Proportion of sample from the state who gave                        |\n",
        "| `stateresponset`     | Proportion of treated sample from the state who gave                |\n",
        "| `stateresponsec`     | Proportion of control sample from the state who gave                |\n",
        "| `stateresponsetminc` | stateresponset - stateresponsec                                     |\n",
        "| `perbush`            | State vote share for Bush                                           |\n",
        "| `close25`            | State vote share for Bush between 47.5% and 52.5%                   |\n",
        "| `red0`               | Red state                                                           |\n",
        "| `blue0`              | Blue state                                                          |\n",
        "| `redcty`             | Red county                                                          |\n",
        "| `bluecty`            | Blue county                                                         |\n",
        "| `pwhite`             | Proportion white within zip code                                    |\n",
        "| `pblack`             | Proportion black within zip code                                    |\n",
        "| `page18_39`          | Proportion age 18-39 within zip code                                |\n",
        "| `ave_hh_sz`          | Average household size within zip code                              |\n",
        "| `median_hhincome`    | Median household income within zip code                             |\n",
        "| `powner`             | Proportion house owner within zip code                              |\n",
        "| `psch_atlstba`       | Proportion who finished college within zip code                     |\n",
        "| `pop_propurban`      | Proportion of population urban within zip code                      |\n",
        "\n",
        "::::\n"
      ],
      "id": "c26f306c"
    },
    {
      "cell_type": "code",
      "metadata": {},
      "source": [
        "data.isna().sum()"
      ],
      "id": "ead90f5c",
      "execution_count": null,
      "outputs": []
    },
    {
      "cell_type": "code",
      "metadata": {},
      "source": [
        "data= data.dropna()\n",
        "data.shape"
      ],
      "id": "ead70787",
      "execution_count": null,
      "outputs": []
    },
    {
      "cell_type": "code",
      "metadata": {},
      "source": [
        "data.head()"
      ],
      "id": "986094c8",
      "execution_count": null,
      "outputs": []
    },
    {
      "cell_type": "markdown",
      "metadata": {},
      "source": [
        "### Balance Test "
      ],
      "id": "275f0d93"
    },
    {
      "cell_type": "code",
      "metadata": {},
      "source": [
        "m1= data[data['treatment']==1]['statecnt'].mean()\n",
        "m2= data[data['treatment']==0]['statecnt'].mean()\n",
        "n1= data[data['treatment']==1]['statecnt'].count()\n",
        "n2= data[data['treatment']==0]['statecnt'].count()\n",
        "s1= data[data['treatment']==1]['statecnt'].std()\n",
        "s2= data[data['treatment']==0]['statecnt'].std()\n",
        "se= np.sqrt((s1**2)/n1+(s2**2)/n2)\n",
        "t= (m1-m2)/se\n",
        "import scipy.stats as stats\n",
        "stats.ttest_ind(a=data[data['treatment']==1]['statecnt'],b=data[data['treatment']==0]['statecnt'],equal_var=False)"
      ],
      "id": "3d36eaf7",
      "execution_count": null,
      "outputs": []
    },
    {
      "cell_type": "code",
      "metadata": {},
      "source": [
        "print(f'difference in means: {m1-m2:.3f}')\n",
        "print(f't-statistic: {t:.3f}')\n",
        "print(f'p-value: {2*(1-stats.t.cdf(np.abs(t),n1+n2)):.3f}')"
      ],
      "id": "682e0030",
      "execution_count": null,
      "outputs": []
    },
    {
      "cell_type": "code",
      "metadata": {},
      "source": [
        "from sklearn.linear_model import LinearRegression\n",
        "import statsmodels.api as smf\n",
        "X = smf.add_constant(data['treatment'])\n",
        "\n",
        "x= np.array(data['treatment']).reshape(-1,1)\n",
        "y= data['statecnt']\n",
        "model = smf.OLS(y,X)\n",
        "results = model.fit()\n",
        "print(results.summary())\n"
      ],
      "id": "cedcccdc",
      "execution_count": null,
      "outputs": []
    },
    {
      "cell_type": "code",
      "metadata": {},
      "source": [
        "resids = np.array(y-model.predict(x))\n",
        "model2= LinearRegression()\n",
        "model2.fit(resids.reshape(-1,1),x.flatten())\n",
        "model2.coef_"
      ],
      "id": "4ff6bef6",
      "execution_count": null,
      "outputs": []
    },
    {
      "cell_type": "code",
      "metadata": {},
      "source": [
        "m1= data[data['treatment']==1]['mrm2'].mean()\n",
        "m2= data[data['treatment']==0]['mrm2'].mean()\n",
        "n1= data[data['treatment']==1]['mrm2'].count()\n",
        "n2= data[data['treatment']==0]['mrm2'].count()\n",
        "s1= data[data['treatment']==1]['mrm2'].std()\n",
        "s2= data[data['treatment']==0]['mrm2'].std()\n",
        "se= np.sqrt((s1**2)/n1+(s2**2)/n2)\n",
        "t= (m1-m2)/se\n",
        "import scipy.stats as stats\n",
        "stats.ttest_ind(a=data[data['treatment']==1]['mrm2'],b=data[data['treatment']==0]['mrm2'],equal_var=False)"
      ],
      "id": "4989bc8d",
      "execution_count": null,
      "outputs": []
    },
    {
      "cell_type": "code",
      "metadata": {},
      "source": [
        "print(f'difference in means: {m1-m2:.3f}')\n",
        "print(f't-statistic: {t:.3f}')\n",
        "print(f'p-value: {2*(1-stats.t.cdf(np.abs(t),n1+n2)):.3f}')"
      ],
      "id": "fc7412f1",
      "execution_count": null,
      "outputs": []
    },
    {
      "cell_type": "code",
      "metadata": {},
      "source": [
        "from sklearn.linear_model import LinearRegression\n",
        "x= np.array(data['treatment']).reshape(-1,1)\n",
        "y= data['mrm2']\n",
        "model = LinearRegression()\n",
        "model.fit(x,y)\n",
        "print(f'regression coefficient: {model.coef_[0]:.3f}')"
      ],
      "id": "f2ed9e4c",
      "execution_count": null,
      "outputs": []
    },
    {
      "cell_type": "code",
      "metadata": {},
      "source": [
        "resids = np.array(y-model.predict(x))\n",
        "model2= LinearRegression()\n",
        "model2.fit(resids.reshape(-1,1),x.flatten())\n",
        "model2.coef_"
      ],
      "id": "49cca971",
      "execution_count": null,
      "outputs": []
    },
    {
      "cell_type": "markdown",
      "metadata": {},
      "source": [
        "As an ad hoc test of the randomization mechanism, I provide a series of tests that compare aspects of the treatment and control groups to assess whether they are statistically significantly different from one another.\n",
        "\n",
        "_todo: test a few variables other than the key outcome variables (for example, test months since last donation) to see if the treatment and control groups are statistically significantly different at the 95% confidence level. Do each as a t-test and separately as a linear regression, and confirm you get the exact same results from both methods. When doing a t-test, use the formula in the class slides. When doing the linear regression, regress for example mrm2 on treatment and look at the estimated coefficient on the treatment variable. It might be helpful to compare parts of your analysis to Table 1 in the paper. Be sure to comment on your results (hint: why is Table 1 included in the paper)._\n",
        "\n",
        "\n",
        "## Experimental Results\n",
        "\n",
        "### Charitable Contribution Made\n",
        "\n",
        "First, I analyze whether matched donations lead to an increased response rate of making a donation. \n",
        "\n",
        "_todo: make a barplot with two bars. Each bar is the proportion of people who donated. One bar for treatment and one bar for control._"
      ],
      "id": "1d36e43d"
    },
    {
      "cell_type": "code",
      "metadata": {},
      "source": [
        "import seaborn as sns \n",
        "sns.barplot(data = data, x= 'treatment', y = 'gave', estimator= 'mean')\n"
      ],
      "id": "00369f5a",
      "execution_count": null,
      "outputs": []
    },
    {
      "cell_type": "markdown",
      "metadata": {},
      "source": [
        "_todo: run a t-test between the treatment and control groups on the binary outcome of whether any charitable donation was made. Also run a bivariate linear regression that demonstrates the same finding. (It may help to confirm your calculations match Table 2a Panel A.) Report your statistical results and interpret them in the context of the experiment (e.g., if you found a difference with a small p-value or that was statistically significant at some threshold, what have you learned about human behavior? Use mostly English words, not numbers or stats, to explain your finding.)_"
      ],
      "id": "397ce5b5"
    },
    {
      "cell_type": "code",
      "metadata": {},
      "source": [
        "p1= data[data['treatment']==1]['gave'].mean()\n",
        "p2= data[data['treatment']==0]['gave'].mean()\n",
        "n1= data[data['treatment']==1]['gave'].count()\n",
        "n2= data[data['treatment']==0]['gave'].count()\n",
        "se= np.sqrt((p1*(1-p1)/n1+(p2*(1-p2))/n2))\n",
        "t= (p1-p2)/se\n",
        "import scipy.stats as stats\n",
        "stats.ttest_ind(a=data[data['treatment']==1]['gave'],b=data[data['treatment']==0]['gave'],equal_var=False)"
      ],
      "id": "ee7f74b9",
      "execution_count": null,
      "outputs": []
    },
    {
      "cell_type": "code",
      "metadata": {},
      "source": [
        "print(f'difference in proportions: {p1-p2:.3f}')\n",
        "print(f't-statistic: {t:.3f}')\n",
        "print(f'p-value: {2*(1-stats.t.cdf(np.abs(t),n1+n2)):.3f}')\n"
      ],
      "id": "9dcdc87e",
      "execution_count": null,
      "outputs": []
    },
    {
      "cell_type": "markdown",
      "metadata": {},
      "source": [
        "_todo: run a probit regression where the outcome variable is whether any charitable donation was made and the explanatory variable is assignment to treatment or control. Confirm that your results replicate Table 3 column 1 in the paper._\n"
      ],
      "id": "ed107afe"
    },
    {
      "cell_type": "code",
      "metadata": {},
      "source": [
        "import statsmodels.api as smf\n",
        "x = smf.add_constant(data['treatment'])\n",
        "model3 = smf.Probit(data['gave'], x)\n",
        "result = model3.fit()\n",
        "result.summary()\n"
      ],
      "id": "a7ddf0ac",
      "execution_count": null,
      "outputs": []
    },
    {
      "cell_type": "markdown",
      "metadata": {},
      "source": [
        "### Differences between Match Rates\n",
        "\n",
        "Next, I assess the effectiveness of different sizes of matched donations on the response rate.\n",
        "\n",
        "_todo: Use a series of t-tests to test whether the size of the match ratio has an effect on whether people donate or not. For example, does the 2:1 match rate lead increase the likelihood that someone donates as compared to the 1:1 match rate? Do your results support the \"figures suggest\" comment the authors make on page 8?_"
      ],
      "id": "fd995162"
    },
    {
      "cell_type": "code",
      "metadata": {},
      "source": [
        "p1= data[data['ratio']==1]['gave'].mean()\n",
        "p2= data[data['ratio2']==1]['gave'].mean()\n",
        "n1= data[data['ratio']==1]['gave'].count()\n",
        "n2= data[data['ratio2']==1]['gave'].count()\n",
        "se= np.sqrt((p1*(1-p1)/n1+(p2*(1-p2))/n2))\n",
        "t= (p1-p2)/se\n",
        "\n",
        "print(f'difference in proportions: {p1-p2:.3f}')\n",
        "print(f't-statistic: {t:.3f}')\n",
        "print(f'p-value: {2*(1-stats.t.cdf(np.abs(t),n1+n2)):.3f}')\n"
      ],
      "id": "76373aeb",
      "execution_count": null,
      "outputs": []
    },
    {
      "cell_type": "code",
      "metadata": {},
      "source": [
        "p1= data[data['ratio']==1]['gave'].mean()\n",
        "p2= data[data['ratio3']==1]['gave'].mean()\n",
        "n1= data[data['ratio']==1]['gave'].count()\n",
        "n2= data[data['ratio3']==1]['gave'].count()\n",
        "se= np.sqrt((p1*(1-p1)/n1+(p2*(1-p2))/n2))\n",
        "t= (p1-p2)/se\n",
        "\n",
        "print(f'difference in proportions: {p1-p2:.3f}')\n",
        "print(f't-statistic: {t:.3f}')\n",
        "print(f'p-value: {2*(1-stats.t.cdf(np.abs(t),n1+n2)):.3f}')\n"
      ],
      "id": "458c5728",
      "execution_count": null,
      "outputs": []
    },
    {
      "cell_type": "code",
      "metadata": {},
      "source": [
        "p1= data[data['ratio2']==1]['gave'].mean()\n",
        "p2= data[data['ratio3']==1]['gave'].mean()\n",
        "n1= data[data['ratio2']==1]['gave'].count()\n",
        "n2= data[data['ratio3']==1]['gave'].count()\n",
        "se= np.sqrt((p1*(1-p1)/n1+(p2*(1-p2))/n2))\n",
        "t= (p1-p2)/se\n",
        "\n",
        "print(f'difference in proportions: {p1-p2:.3f}')\n",
        "print(f't-statistic: {t:.3f}')\n",
        "print(f'p-value: {2*(1-stats.t.cdf(np.abs(t),n1+n2)):.3f}')\n"
      ],
      "id": "43aeb228",
      "execution_count": null,
      "outputs": []
    },
    {
      "cell_type": "markdown",
      "metadata": {},
      "source": [
        "Difference is very small and stat-insig\n",
        "_todo: Assess the same issue using a regression. Specifically, create the variable `ratio1` then regress `gave` on `ratio1`, `ratio2`, and `ratio3` (or alternatively, regress `gave` on the categorical variable `ratio`). Interpret the coefficients and their statistical precision._\n"
      ],
      "id": "8f525f9b"
    },
    {
      "cell_type": "code",
      "metadata": {},
      "source": [
        "#data['ratio1']= data['ratio'].astype(float)-data['ratio2']-data['ratio3']\n",
        "#data2= data[data['treatment']==1]\n",
        "data['ratio1']= np.where((data['ratio']!='Control') & (data['ratio2']==0) & (data['ratio3']==0),1,0)\n",
        "X = smf.add_constant(data[['ratio1','ratio2','ratio3']])\n",
        "Y = data['gave']\n",
        "model4 = smf.OLS(Y,X)\n",
        "results = model4.fit()\n",
        "results.summary()\n"
      ],
      "id": "e78af018",
      "execution_count": null,
      "outputs": []
    },
    {
      "cell_type": "markdown",
      "metadata": {},
      "source": [
        "Compared to the treaemt and the control \n",
        "\n",
        "_todo: Calculate the response rate difference between the 1:1 and 2:1 match ratios and the 2:1 and 3:1 ratios.  Do this directly from the data, and do it by computing the differences in the fitted coefficients of the previous regression. what do you conclude regarding the effectiveness of different sizes of matched donations?_"
      ],
      "id": "9b2b1326"
    },
    {
      "cell_type": "code",
      "metadata": {},
      "source": [
        "print(data[data['ratio2']==1]['gave'].mean()-data[data['ratio1']==1]['gave'].mean())\n",
        "print(data[data['ratio3']==1]['gave'].mean()-data[data['ratio2']==1]['gave'].mean())\n",
        "print(results.params['ratio2']-results.params['ratio1'])\n",
        "print(results.params['ratio3']-results.params['ratio2'])\n"
      ],
      "id": "80bbe702",
      "execution_count": null,
      "outputs": []
    },
    {
      "cell_type": "markdown",
      "metadata": {},
      "source": [
        "### Size of Charitable Contribution\n",
        "\n",
        "In this subsection, I analyze the effect of the size of matched donation on the size of the charitable contribution.\n",
        "\n",
        "_todo: Calculate a t-test or run a bivariate linear regression of the donation amount on the treatment status. What do we learn from doing this analysis?_\n"
      ],
      "id": "10f78d06"
    },
    {
      "cell_type": "code",
      "metadata": {},
      "source": [
        "X=smf.add_constant(data['treatment'])\n",
        "y= data['amount']\n",
        "model = smf.OLS(y,X)\n",
        "results = model.fit()\n",
        "results.summary()"
      ],
      "id": "ad211158",
      "execution_count": null,
      "outputs": []
    },
    {
      "cell_type": "markdown",
      "metadata": {},
      "source": [
        "we learn treatmetn increasess doantion aount \n",
        "\n",
        "_todo: now limit the data to just people who made a donation and repeat the previous analysis. This regression allows you to analyze how much respondents donate conditional on donating some positive amount. Interpret the regression coefficients -- what did we learn? Does the treatment coefficient have a causal interpretation?_ "
      ],
      "id": "485dbe98"
    },
    {
      "cell_type": "code",
      "metadata": {},
      "source": [
        "data3 = data[data['gave']==1]\n",
        "X=smf.add_constant(data3['treatment'])\n",
        "y= data3['amount']\n",
        "model = smf.OLS(y,X)\n",
        "results = model.fit()\n",
        "results.summary()\n"
      ],
      "id": "e0f5f714",
      "execution_count": null,
      "outputs": []
    },
    {
      "cell_type": "markdown",
      "metadata": {},
      "source": [
        "Increasse the prob but if you were to give, the amoutn would be lower\n",
        "\n",
        "_todo: Make two plot: one for the treatment group and one for the control. Each plot should be a histogram of the donation amounts only among people who donated. Add a red vertical bar or some other annotation to indicate the sample average for each plot._\n"
      ],
      "id": "e0f1c3b9"
    },
    {
      "cell_type": "code",
      "metadata": {},
      "source": [
        "import matplotlib.pyplot as plt \n",
        "treat = data3[data3['treatment']==1]\n",
        "control = data3[data3['treatment']==0]\n",
        "sns.histplot(treat, x = 'amount')\n",
        "plt.axvline(x = treat['amount'].mean(), color = 'r')"
      ],
      "id": "012ff570",
      "execution_count": null,
      "outputs": []
    },
    {
      "cell_type": "code",
      "metadata": {},
      "source": [
        "sns.histplot(control, x = 'amount')\n",
        "plt.axvline(x = control['amount'].mean(), color = 'r')"
      ],
      "id": "1b56585f",
      "execution_count": null,
      "outputs": []
    },
    {
      "cell_type": "markdown",
      "metadata": {},
      "source": [
        "## Simulation Experiment\n",
        "\n",
        "As a reminder of how the t-statistic \"works,\" in this section I use simulation to demonstrate the Law of Large Numbers and the Central Limit Theorem.\n",
        "\n",
        "Suppose the true distribution of respondents who do not get a charitable donation match is Bernoulli with probability p=0.018 that a donation is made. \n",
        "\n",
        "Further suppose that the true distribution of respondents who do get a charitable donation match of any size  is Bernoulli with probability p=0.022 that a donation is made.\n",
        "\n",
        "### Law of Large Numbers\n",
        "\n",
        "_to do:  Make a plot like those on slide 43 from our first class and explain the plot to the reader. To do this, you will simulate 100,00 draws from the control distribution and 10,000 draws from the treatment distribution. You'll then calculate a vector of 10,000 differences, and then you'll plot the cumulative average of that vector of differences. Comment on whether the cumulative average approaches the true difference in means._"
      ],
      "id": "2f69bc6a"
    },
    {
      "cell_type": "code",
      "metadata": {},
      "source": [
        "control = stats.bernoulli.rvs(0.018, size = 10000)\n",
        "treat = stats.bernoulli.rvs(0.022, size = 10000)\n",
        "diff = treat - control \n",
        "cumm_mean = np.cumsum(diff)/np.arange(1, 10001)\n",
        "sns.lineplot(cumm_mean, color = 'r')\n",
        "plt.axhline(y = 0.004, linestyle = '--' )"
      ],
      "id": "fba842c2",
      "execution_count": null,
      "outputs": []
    },
    {
      "cell_type": "markdown",
      "metadata": {},
      "source": [
        "### Central Limit Theorem\n",
        "\n",
        "_to do: Make 4 histograms like those on slide 44 from our first class at sample sizes 50, 200, 500, and 1000 and explain these plots to the reader. To do this for a sample size of e.g. 50, take 50 draws from each of the control and treatment distributions, and calculate the average difference between those draws. Then repeat that process 999 more times so that you have 1000 averages. Plot the histogram of those averages. Comment on whether zero is in the \"middle\" of the distribution or whether it's in the \"tail.\"_\n"
      ],
      "id": "659bc27c"
    },
    {
      "cell_type": "code",
      "metadata": {},
      "source": [
        "avg50 = []\n",
        "for i in range(1000):\n",
        "    control = stats.bernoulli.rvs(0.018, size = 50)\n",
        "    treat = stats.bernoulli.rvs(0.022, size = 50)\n",
        "    diff = treat - control \n",
        "    avg50.append(np.mean(diff))\n",
        "\n",
        "cumm_mean = np.cumsum(avg50)/np.arange(1,1001)\n",
        "sns.lineplot(cumm_mean)\n",
        "plt.axhline(y = 0.004, linestyle = '--' )\n",
        "plt.hist(x = avg50, orientation = 'horizontal')\n"
      ],
      "id": "99ea29da",
      "execution_count": null,
      "outputs": []
    },
    {
      "cell_type": "code",
      "metadata": {},
      "source": [
        "avg200 = []\n",
        "for i in range(1000):\n",
        "    control = stats.bernoulli.rvs(0.018, size = 200)\n",
        "    treat = stats.bernoulli.rvs(0.022, size = 200)\n",
        "    diff = treat - control \n",
        "    avg200.append(np.mean(diff))\n",
        "\n",
        "cumm_mean = np.cumsum(avg200)/np.arange(1,1001)\n",
        "sns.lineplot(cumm_mean)\n",
        "plt.axhline(y = 0.004, linestyle = '--' )\n",
        "plt.hist(x = avg200, orientation = 'horizontal')\n"
      ],
      "id": "58898b52",
      "execution_count": null,
      "outputs": []
    },
    {
      "cell_type": "code",
      "metadata": {},
      "source": [
        "avg500 = []\n",
        "for i in range(1000):\n",
        "    control = stats.bernoulli.rvs(0.018, size = 500)\n",
        "    treat = stats.bernoulli.rvs(0.022, size = 500)\n",
        "    diff = treat - control \n",
        "    avg500.append(np.mean(diff))\n",
        "\n",
        "cumm_mean = np.cumsum(avg500)/np.arange(1,1001)\n",
        "sns.lineplot(cumm_mean)\n",
        "plt.axhline(y = 0.004, linestyle = '--' )\n",
        "plt.hist(x = avg500, orientation = 'horizontal')\n"
      ],
      "id": "ef19ec66",
      "execution_count": null,
      "outputs": []
    },
    {
      "cell_type": "code",
      "metadata": {},
      "source": [
        "avg1000 = []\n",
        "for i in range(1000):\n",
        "    control = stats.bernoulli.rvs(0.018, size = 1000)\n",
        "    treat = stats.bernoulli.rvs(0.022, size = 1000)\n",
        "    diff = treat - control \n",
        "    avg1000.append(np.mean(diff))\n",
        "\n",
        "cumm_mean = np.cumsum(avg500)/np.arange(1,1001)\n",
        "sns.lineplot(cumm_mean)\n",
        "plt.axhline(y = 0.004, linestyle = '--' )\n",
        "plt.hist(x = avg1000, orientation = 'horizontal')\n"
      ],
      "id": "61339e30",
      "execution_count": null,
      "outputs": []
    }
  ],
  "metadata": {
    "kernelspec": {
      "name": "python3",
      "language": "python",
      "display_name": "Python 3 (ipykernel)"
    }
  },
  "nbformat": 4,
  "nbformat_minor": 5
}