{
  "cells": [
    {
      "cell_type": "raw",
      "metadata": {},
      "source": [
        "---\n",
        "title: \"Poisson Regression Examples\"\n",
        "author: \"Fatma Zohra\"\n",
        "date: today\n",
        "callout-appearance: minimal # this hides the blue \"i\" icon on .callout-notes\n",
        "editor_options: \n",
        "  chunk_output_type: inline\n",
        "---"
      ],
      "id": "d6e9d19c"
    },
    {
      "cell_type": "markdown",
      "metadata": {},
      "source": [
        "## Blueprinty Case Study\n",
        "\n",
        "### Introduction\n",
        "\n",
        "Blueprinty is a small firm that makes software for developing blueprints specifically for submitting patent applications to the US patent office. Their marketing team would like to make the claim that patent applicants using Blueprinty's software are more successful in getting their patent applications approved. Ideal data to study such an effect might include the success rate of patent applications before using Blueprinty's software and after using it. unfortunately, such data is not available.\n",
        "\n",
        "However, Blueprinty has collected data on 1,500 mature (non-startup) engineering firms. The data include each firm's number of patents awarded over the last 5 years, regional location, age since incorporation, and whether or not the firm uses Blueprinty's software. The marketing team would like to use this data to make the claim that firms using Blueprinty's software are more successful in getting their patent applications approved.\n",
        "\n",
        "### Data\n",
        "\n",
        "*todo: Read in data.*"
      ],
      "id": "bb4f3d7b"
    },
    {
      "cell_type": "code",
      "metadata": {},
      "source": [
        "import pandas as pd\n",
        "import numpy as np\n",
        "import scipy as sp\n",
        "import matplotlib.pyplot as plt\n",
        "import math \n",
        "from scipy.optimize import minimize\n",
        "import patsy\n",
        "from scipy.special import gammaln\n",
        "data = pd.read_csv(\"blueprinty.csv\")"
      ],
      "id": "2433583e",
      "execution_count": null,
      "outputs": []
    },
    {
      "cell_type": "code",
      "metadata": {},
      "source": [
        "data.head()"
      ],
      "id": "04a92142",
      "execution_count": null,
      "outputs": []
    },
    {
      "cell_type": "code",
      "metadata": {},
      "source": [
        "customer_yes = data[data['iscustomer']== 1]\n",
        "customer_no = data[data['iscustomer']== 0]"
      ],
      "id": "b86a5792",
      "execution_count": null,
      "outputs": []
    },
    {
      "cell_type": "code",
      "metadata": {},
      "source": [
        "mean_customer_yes = customer_yes['patents'].mean()\n",
        "mean_customer_no = customer_no['patents'].mean()\n",
        "\n",
        "print(mean_customer_yes)\n",
        "print(mean_customer_no)"
      ],
      "id": "627428d5",
      "execution_count": null,
      "outputs": []
    },
    {
      "cell_type": "markdown",
      "metadata": {},
      "source": [
        "*todo: Compare histograms and means of number of patents by customer status. What do you observe?*\n"
      ],
      "id": "2d9cb889"
    },
    {
      "cell_type": "code",
      "metadata": {},
      "source": [
        "fig, axs = plt.subplots(1, 2, figsize=(12, 6))\n",
        "\n",
        "# Plotting histograms for customer_yes and customer_no datasets\n",
        "axs[0].hist(customer_yes['patents'], bins=10, color='blue', edgecolor='black')\n",
        "axs[0].set_title('Customer Yes: Patents')\n",
        "axs[0].set_xlabel('Patents')\n",
        "axs[0].set_ylabel('Frequency')\n",
        "\n",
        "axs[1].hist(customer_no['patents'], bins=10, color='orange', edgecolor='black')\n",
        "axs[1].set_title('Customer No: Patents')\n",
        "axs[1].set_xlabel('Patents')\n",
        "axs[1].set_ylabel('Frequency')\n",
        "\n",
        "# Adjust layout and show plots\n",
        "plt.tight_layout()\n",
        "plt.show()\n"
      ],
      "id": "c5eaafb9",
      "execution_count": null,
      "outputs": []
    },
    {
      "cell_type": "markdown",
      "metadata": {},
      "source": [
        "Customer_no is right skewed compared to customer_yes, and from this we can confer that while the means show that customer_yes has a small number more patents than customer_no but customer_no has significantly more variance\n",
        "\n",
        "Blueprinty customers are not selected at random. It may be important to account for systematic differences in the age and regional location of customers vs non-customers.\n",
        "\n",
        "\n",
        "\n",
        "\n",
        "Customer no is right skewed compared to customer yes, and from this we can confer that while the means show that customer_yes has a small number more pattents than customer_no but customer_no has significantly more variance\n",
        "\n",
        "Blueprinty customers are not selected at random. It may be important to account for systematic differences in the age and regional location of customers vs non-customers.\n",
        "\n",
        "*todo: Compare regions and ages by customer status. What do you observe?*\n",
        "\n",
        "## Customer Distribution by Region "
      ],
      "id": "1d622ab5"
    },
    {
      "cell_type": "code",
      "metadata": {},
      "source": [
        "# Grouping and summarizing for customer_yes DataFrame\n",
        "grouped_yes = customer_yes.groupby('region').agg(\n",
        "    count=('region', 'size'),\n",
        ").reset_index()\n",
        "grouped_yes['pct'] = grouped_yes['count'] / len(customer_yes)\n",
        "\n",
        "# Grouping and summarizing for customer_no DataFrame\n",
        "grouped_no = customer_no.groupby('region').agg(\n",
        "    count=('region', 'size'),\n",
        ").reset_index()\n",
        "grouped_no['pct'] = grouped_no['count'] / len(customer_no)\n",
        "\n",
        "# Viewing the summarized results\n",
        "print(grouped_yes)\n",
        "print(grouped_no)"
      ],
      "id": "a029b826",
      "execution_count": null,
      "outputs": []
    },
    {
      "cell_type": "markdown",
      "metadata": {},
      "source": [
        "The table above shows fewer customers in all regions in the customer_no category\n",
        "The table splits customer data into two categories based on their status (Yes or No)\n",
        "For customers with a \"Yes\" status:\n",
        "Northeast has the highest percentage of customers at 57.36%.\n",
        "The other regions follow much lower, with Southwest at 15.74%, South at 10.15%, Midwest at 8.63%, and Northwest at 8.12%.\n",
        "For customers with a \"No\" status:\n",
        "Northeast again leads with 37.45% of customers.\n",
        "This is followed by Southwest at 20.41%, and Midwest, Northwest, and South all close to each other at 15.89%, 13.12%, and 13.12% respectively.\n",
        "\n",
        "## Customer Distribution by Age"
      ],
      "id": "5b4bc55e"
    },
    {
      "cell_type": "code",
      "metadata": {},
      "source": [
        "# Calculate the mean age for customer_yes and customer_no groups\n",
        "mean_age_yes = customer_yes['age'].mean()\n",
        "mean_age_no = customer_no['age'].mean()\n",
        "\n",
        "print(\"Mean Age of Customers Yes:\", mean_age_yes)\n",
        "print(\"Mean Age of Customers No:\", mean_age_no)\n",
        "\n",
        "# Create a 1-row x 2-column grid of subplots\n",
        "fig, axs = plt.subplots(1, 2, figsize=(12, 6))\n",
        "\n",
        "# Plot histogram of age for customer_yes\n",
        "axs[0].hist(customer_yes['age'], bins=10, color='blue', edgecolor='black')\n",
        "axs[0].set_title('Customer Yes: Age')\n",
        "axs[0].set_xlabel('Age')\n",
        "axs[0].set_ylabel('Frequency')\n",
        "\n",
        "# Plot histogram of age for customer_no\n",
        "axs[1].hist(customer_no['age'], bins=10, color='orange', edgecolor='black')\n",
        "axs[1].set_title('Customer No: Age')\n",
        "axs[1].set_xlabel('Age')\n",
        "axs[1].set_ylabel('Frequency')\n",
        "\n",
        "# Adjust layout and show the plots\n",
        "plt.tight_layout()\n",
        "plt.show()"
      ],
      "id": "56dd8a50",
      "execution_count": null,
      "outputs": []
    },
    {
      "cell_type": "markdown",
      "metadata": {},
      "source": [
        "### Observations\n",
        "1- Region Impact: The Northeast dominates in customer numbers for both statuses, suggesting it may be a key market or has a larger base of the targeted demographic. \n",
        "\n",
        "2- Age Differences: Customers with a 'Yes' status are generally younger compared to those with a 'No' status, indicating that the younger customers are more active and engaged. \n",
        "\n",
        "3- Geographic Disparities: There is a clear geographic disparity in customer distribution. The Northeast has a much higher concentration of customers, possibly indicating regional preferences or more succesful market penetration. \n",
        "\n",
        "The likelihood (or log-likelihood) function (function of lambda and Y) for the Poisson model. \n",
        "### Estimation of Simple Poisson Model\n",
        "\n",
        "Since our outcome variable of interest can only be small integer values per a set unit of time, we can use a Poisson density to model the number of patents awarded to each engineering firm over the last 5 years. We start by estimating a simple Poisson model via Maximum Likelihood.\n",
        "\n",
        "*todo: Write down mathematically the likelihood for* $Y \\sim \\text{Poisson}(\\lambda)$. Note that $f(Y|\\lambda) = e^{-\\lambda}\\lambda^Y/Y!$.\n",
        "\n",
        "$$\n",
        "likelihood(f(Y|\\lambda))=\\Pi_{i=1}^ne^{-\\lambda}\\lambda^Y_i/Y_i!\n",
        "$$\n",
        "\n",
        "*todo: Code the likelihood (or log-likelihood) function for the Poisson model. This is a function of lambda and Y. For example:*\n"
      ],
      "id": "b5b68063"
    },
    {
      "cell_type": "code",
      "metadata": {},
      "source": [
        "def poisson_loglikelihood(lmbda, Y):\n",
        "    # Convert Y to a NumPy array for easier numerical computations\n",
        "    Y = np.array(Y)\n",
        "\n",
        "    # Calculate the Poisson likelihood using NumPy's vectorized operations\n",
        "    likelihood = np.exp(-lmbda) * np.power(lmbda, Y) / np.array([math.factorial(y) for y in Y])\n",
        "\n",
        "    # Compute the sum of log-likelihoods\n",
        "    ll = np.sum(np.log(likelihood))\n",
        "    return ll\n",
        "    ```\n",
        "\n",
        "\n",
        "\n",
        "*todo: Use your function to plot lambda on the horizontal axis and the likelihood (or log-likelihood) on the vertical axis for a range of lambdas (use the observed number of patents as the input for Y).*\n",
        "\n",
        "\n",
        "\n",
        "\n",
        "\n",
        "```{python}"
      ],
      "id": "06db47a8",
      "execution_count": null,
      "outputs": []
    },
    {
      "cell_type": "markdown",
      "metadata": {},
      "source": [
        "*4 maximizes*"
      ],
      "id": "81055068"
    },
    {
      "cell_type": "code",
      "metadata": {},
      "source": [
        "def poisson_loglikelihood(lmbda, Y):\n",
        "    Y = np.array(Y)\n",
        "    likelihood = np.exp(-lmbda) * np.power(lmbda, Y) / np.array([np.math.factorial(y) for y in Y])\n",
        "    ll = np.sum(np.log(likelihood))\n",
        "    return ll\n",
        "\n",
        "# Generate a sequence of lambda values from min to max of data['patents']\n",
        "min_patents = data['patents'].min()\n",
        "max_patents = data['patents'].max()\n",
        "lambdas = np.arange(min_patents, max_patents + 1)\n",
        "\n",
        "# Initialize an empty list to store log-likelihoods\n",
        "lls = []\n",
        "\n",
        "# Calculate the log-likelihood for each lambda value\n",
        "for lmbda in lambdas:\n",
        "    lls.append(poisson_loglikelihood(lmbda, data['patents']))\n",
        "\n",
        "# Plot lambda values against the corresponding log-likelihoods\n",
        "plt.plot(lambdas, lls, marker='o', linestyle='-')\n",
        "plt.xlabel('Lambda')\n",
        "plt.ylabel('Log-Likelihood')\n",
        "plt.title('Poisson Log-Likelihood vs. Lambda')\n",
        "plt.grid(True)\n",
        "plt.show()"
      ],
      "id": "5db71acb",
      "execution_count": null,
      "outputs": []
    },
    {
      "cell_type": "markdown",
      "metadata": {},
      "source": [
        "1- Peak Log-Likelihood- The log-likelihood reaches its peak around 𝜆 = 4 which suggests that this value is the best fit to the observed patent data per the Poisson model \n",
        "\n",
        "2- Decrease in Log-Likelihood- As 𝜆 increases beyond 4, there is a sharp decline in the log-likelihood indicating  that the higher values deviate from the best fit. \n",
        "\n",
        "3- Shape of the curve- The curve is unimodal with a single peak which is typical in likelihood analysis. This suggests a clear optimum value for 𝜆. \n",
        "\n",
        "*todo: If you're feeling mathematical, take the first derivative of your likelihood or log-likelihood, set it equal to zero and solve for lambda. You will find lambda_mle is Ybar, which \"feels right\" because the mean of a Poisson distribution is lambda.*\n",
        "\n",
        "*todo: Find the MLE by optimizing your likelihood function with optim() in R or sp.optimize() in Python.*\n",
        "\n",
        "### Optimizing the likelihood function to find the MLE "
      ],
      "id": "9179d817"
    },
    {
      "cell_type": "code",
      "metadata": {},
      "source": [
        "# Define the Poisson log-likelihood function (to maximize)\n",
        "def poisson_loglikelihood(lmbda, Y):\n",
        "    Y = np.array(Y)\n",
        "    likelihood = np.exp(-lmbda) * np.power(lmbda, Y) / np.array([np.math.factorial(y) for y in Y])\n",
        "    ll = np.sum(np.log(likelihood))\n",
        "    return -ll  # Negate because we will minimize\n",
        "\n",
        "# Sample dataset (replace this with your actual dataset)\n",
        "Y = data['patents']\n",
        "\n",
        "# Initial guess for lambda\n",
        "initial_guess = 2\n",
        "\n",
        "# Optimize using `minimize`, with negation to perform maximization\n",
        "result = minimize(poisson_loglikelihood, initial_guess, args=(Y,), method='L-BFGS-B')\n",
        "\n",
        "# The optimized lambda value (maximum likelihood estimate)\n",
        "mle_lambda = result.x[0]\n",
        "\n",
        "# Display the MLE for lambda\n",
        "print(f\"MLE for lambda: {mle_lambda}\")"
      ],
      "id": "dc5d55cc",
      "execution_count": null,
      "outputs": []
    },
    {
      "cell_type": "markdown",
      "metadata": {},
      "source": [
        "### Estimation of Poisson Regression Model\n",
        "\n",
        "Next, we extend our simple Poisson model to a Poisson Regression Model such that $Y_i = \\text{Poisson}(\\lambda_i)$ where $\\lambda_i = \\exp(X_i'\\beta)$. The interpretation is that the success rate of patent awards is not constant across all firms ($\\lambda$) but rather is a function of firm characteristics $X_i$. Specifically, we will use the covariates age, age squared, region, and whether the firm is a customer of Blueprinty.\n",
        "\n",
        "*todo: Update your likelihood or log-likelihood function with an additional argument to take in a covariate matrix X. Also change the parameter of the model from lambda to the beta vector. In this model, lambda must be a positive number, so we choose the inverse link function g() to be exp() so that* $\\lambda_i = e^{X_i'\\beta}$. *For example:*\n"
      ],
      "id": "544c74ee"
    },
    {
      "cell_type": "code",
      "metadata": {},
      "source": [
        "def poisson_regression_likelihood(beta, Y, X):\n",
        "    # Convert inputs to NumPy arrays for efficient computation\n",
        "    beta = np.array(beta)\n",
        "    Y = np.array(Y)\n",
        "    X = np.array(X)\n",
        "    \n",
        "    # Compute lambda as the linear combination of X and beta using matrix multiplication\n",
        "    lambda_ = np.dot(X, beta)\n",
        "    \n",
        "    # Ensure lambda is positive to avoid issues with log and exponentiation\n",
        "    lambda_ = np.exp(lambda_)\n",
        "\n",
        "    # Calculate the Poisson log-likelihood terms\n",
        "    ll = -lambda_ + Y * np.log(lambda_) - np.array([math.log(math.factorial(y)) for y in Y])\n",
        "    \n",
        "    # Sum up the log-likelihood values\n",
        "    return np.sum(ll)"
      ],
      "id": "aec6ed70",
      "execution_count": null,
      "outputs": []
    },
    {
      "cell_type": "code",
      "metadata": {},
      "source": [
        "def gr(beta, Y, X):\n",
        "    # Convert inputs to NumPy arrays for efficient computation\n",
        "    beta = np.array(beta)\n",
        "    Y = np.array(Y)\n",
        "    X = np.array(X)\n",
        "    \n",
        "    # Compute lambda (using matrix multiplication with exponential)\n",
        "    lambda_ = np.dot(X, beta)\n",
        "    lambda_ = np.exp(lambda_)\n",
        "    \n",
        "    # Calculate the gradient of the Poisson log-likelihood\n",
        "    gradient = (Y / lambda_) - 1\n",
        "    \n",
        "    return gradient"
      ],
      "id": "cd394ecf",
      "execution_count": null,
      "outputs": []
    },
    {
      "cell_type": "markdown",
      "metadata": {},
      "source": [
        "*todo: Use your function along with R's optim() or Python's sp.optimize() to find the MLE vector and the Hessian of the Poisson model with covariates. Specifically, the first column of X should be all 1's to enable a constant term in the model, and the subsequent columns should be age, age squared, binary variables for all but one of the regions, and the binary customer variable. Use the Hessian to find standard errors of the beta parameter estimates and present a table of coefficients and standard errors.*\n",
        "\n",
        "*todo: Check your results using R's glm() function or Python sm.GLM() function.*\n"
      ],
      "id": "b7e00209"
    },
    {
      "cell_type": "code",
      "metadata": {},
      "source": [
        "data['region_enc'] = data['region'].astype('category').cat.codes\n",
        "X = data[['age', 'iscustomer', 'region_enc']].copy()\n",
        "X['age2'] = data['age'] ** 2\n",
        "\n",
        "y, X_design = patsy.dmatrices('patents ~ age + I(age **2) + iscustomer + region_enc', data=data, return_type='dataframe')\n",
        "\n",
        "# Now, X_design is equivalent to the R model matrix, with the response variable in `y`"
      ],
      "id": "0ab37d6b",
      "execution_count": null,
      "outputs": []
    },
    {
      "cell_type": "code",
      "metadata": {},
      "source": [
        "# Scaling to 0->1\n",
        "# for col in X.columns:\n",
        "#     min = X[col].min()\n",
        "#     max = X[col].max()\n",
        "#     X[col] = (X[col]-min)/(max-min)"
      ],
      "id": "f104b481",
      "execution_count": null,
      "outputs": []
    },
    {
      "cell_type": "code",
      "metadata": {},
      "source": [
        "# Ensure X is a numpy array\n",
        "X = np.array(X)  # Replace with actual data loading if necessary\n",
        "\n",
        "# Add an intercept column to X (column of ones at the beginning)\n",
        "X_with_intercept = np.hstack([np.ones((X.shape[0], 1)), X])\n",
        "\n",
        "# Define the likelihood function\n",
        "def poisson_regression_likelihood(params, X, Y):\n",
        "    # Ensure params is used directly as a NumPy array\n",
        "\n",
        "    eta = np.dot(X, params)\n",
        "    mu = np.exp(eta)\n",
        "    log_likelihood = np.sum(-mu + Y * np.log(mu) - gammaln(Y + 1))\n",
        "    return -log_likelihood\n",
        "\n",
        "# Initial parameters guess, ensure it's a numpy array\n",
        "initial_params = np.ones(X_with_intercept.shape[1]) * 0.1\n",
        "\n",
        "# Run the minimization\n",
        "result = minimize(poisson_regression_likelihood, initial_params, args=(X_with_intercept, Y), method='BFGS')\n",
        "mle_beta = result.x\n",
        "\n",
        "print(\"MLE Beta Parameters:\", mle_beta)"
      ],
      "id": "31691f7a",
      "execution_count": null,
      "outputs": []
    },
    {
      "cell_type": "markdown",
      "metadata": {},
      "source": [
        "*todo: Interpret the results. What do you conclude about the effect of Blueprinty's software on patent success?*\n",
        "\n",
        "## AirBnB Case Study\n",
        "\n",
        "### Introduction\n",
        "\n",
        "AirBnB is a popular platform for booking short-term rentals. In March 2017, students Annika Awad, Evan Lebo, and Anna Linden scraped of 40,000 Airbnb listings from New York City. The data include the following variables:\n",
        "\n",
        "::: {.callout-note collapse=\"true\"}\n",
        "### Variable Definitions\n",
        "\n",
        "```         \n",
        "- `id` = unique ID number for each unit\n",
        "- `last_scraped` = date when information scraped\n",
        "- `host_since` = date when host first listed the unit on Airbnb\n",
        "- `days` = `last_scraped` - `host_since` = number of days the unit has been listed\n",
        "- `room_type` = Entire home/apt., Private room, or Shared room\n",
        "- `bathrooms` = number of bathrooms\n",
        "- `bedrooms` = number of bedrooms\n",
        "- `price` = price per night (dollars)\n",
        "- `number_of_reviews` = number of reviews for the unit on Airbnb\n",
        "- `review_scores_cleanliness` = a cleanliness score from reviews (1-10)\n",
        "- `review_scores_location` = a \"quality of location\" score from reviews (1-10)\n",
        "- `review_scores_value` = a \"quality of value\" score from reviews (1-10)\n",
        "- `instant_bookable` = \"t\" if instantly bookable, \"f\" if not\n",
        "```\n",
        ":::\n",
        "\n",
        "*todo: Assume the number of reviews is a good proxy for the number of bookings. Perform some exploratory data analysis to get a feel for the data, handle or drop observations with missing values on relevant variables, build one or more models (e.g., a poisson regression model for the number of bookings as proxied by the number of reviews), and interpret model coefficients to describe variation in the number of reviews as a function of the variables provided.*\n"
      ],
      "id": "321f58ed"
    }
  ],
  "metadata": {
    "kernelspec": {
      "name": "python3",
      "language": "python",
      "display_name": "Python 3 (ipykernel)"
    }
  },
  "nbformat": 4,
  "nbformat_minor": 5
}