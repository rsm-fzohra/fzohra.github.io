{
  "cells": [
    {
      "cell_type": "raw",
      "metadata": {},
      "source": [
        "---\n",
        "title: \"Multinomial Logit Examples\"\n",
        "author: \"Fatma Zohra\"\n",
        "date: today\n",
        "---"
      ],
      "id": "c068b543"
    },
    {
      "cell_type": "markdown",
      "metadata": {},
      "source": [
        "This assignment uses uses the MNL model to analyze (1) yogurt purchase data made by consumers at a retail location, and (2) conjoint data about consumer preferences for minivans.\n",
        "\n",
        "\n",
        "## 1. Estimating Yogurt Preferences\n",
        "\n",
        "### Likelihood for the Multi-nomial Logit (MNL) Model\n",
        "\n",
        "Suppose we have $i=1,\\ldots,n$ consumers who each select exactly one product $j$ from a set of $J$ products. The outcome variable is the identity of the product chosen $y_i \\in \\{1, \\ldots, J\\}$ or equivalently a vector of $J-1$ zeros and $1$ one, where the $1$ indicates the selected product. For example, if the third product was chosen out of 4 products, then either $y=3$ or $y=(0,0,1,0)$ depending on how we want to represent it. Suppose also that we have a vector of data on each product $x_j$ (eg, size, price, etc.). \n",
        "\n",
        "We model the consumer's decision as the selection of the product that provides the most utility, and we'll specify the utility function as a linear function of the product characteristics:\n",
        "\n",
        "$$ U_{ij} = x_j'\\beta + \\epsilon_{ij} $$\n",
        "\n",
        "where $\\epsilon_{ij}$ is an i.i.d. extreme value error term. \n",
        "\n",
        "The choice of the i.i.d. extreme value error term leads to a closed-form expression for the probability that consumer $i$ chooses product $j$:\n",
        "\n",
        "$$ \\mathbb{P}_i(j) = \\frac{e^{x_j'\\beta}}{\\sum_{k=1}^Je^{x_k'\\beta}} $$\n",
        "\n",
        "For example, if there are 4 products, the probability that consumer $i$ chooses product 3 is:\n",
        "\n",
        "$$ \\mathbb{P}_i(3) = \\frac{e^{x_3'\\beta}}{e^{x_1'\\beta} + e^{x_2'\\beta} + e^{x_3'\\beta} + e^{x_4'\\beta}} $$\n",
        "\n",
        "A clever way to write the individual likelihood function for consumer $i$ is the product of the $J$ probabilities, each raised to the power of an indicator variable ($\\delta_{ij}$) that indicates the chosen product:\n",
        "\n",
        "$$ L_i(\\beta) = \\prod_{j=1}^J \\mathbb{P}_i(j)^{\\delta_{ij}} = \\mathbb{P}_i(1)^{\\delta_{i1}} \\times \\ldots \\times \\mathbb{P}_i(J)^{\\delta_{iJ}}$$\n",
        "\n",
        "Notice that if the consumer selected product $j=3$, then $\\delta_{i3}=1$ while $\\delta_{i1}=\\delta_{i2}=\\delta_{i4}=0$ and the likelihood is:\n",
        "\n",
        "$$ L_i(\\beta) = \\mathbb{P}_i(1)^0 \\times \\mathbb{P}_i(2)^0 \\times \\mathbb{P}_i(3)^1 \\times \\mathbb{P}_i(4)^0 = \\mathbb{P}_i(3) = \\frac{e^{x_3'\\beta}}{\\sum_{k=1}^Je^{x_k'\\beta}} $$\n",
        "\n",
        "The joint likelihood (across all consumers) is the product of the $n$ individual likelihoods:\n",
        "\n",
        "$$ L_n(\\beta) = \\prod_{i=1}^n L_i(\\beta) = \\prod_{i=1}^n \\prod_{j=1}^J \\mathbb{P}_i(j)^{\\delta_{ij}} $$\n",
        "\n",
        "And the joint log-likelihood function is:\n",
        "\n",
        "$$ \\ell_n(\\beta) = \\sum_{i=1}^n \\sum_{j=1}^J \\delta_{ij} \\log(\\mathbb{P}_i(j)) $$\n",
        "\n",
        "\n",
        "### Yogurt Dataset\n",
        "\n",
        "We will use the `yogurt_data` dataset, which provides anonymized consumer identifiers (`id`), a vector indicating the chosen product (`y1`:`y4`), a vector indicating if any products were \"featured\" in the store as a form of advertising (`f1`:`f4`), and the products' prices (`p1`:`p4`). For example, consumer 1 purchased yogurt 4 at a price of 0.079/oz and none of the yogurts were featured/advertised at the time of consumer 1's purchase.  Consumers 2 through 7 each bought yogurt 2, etc.\n",
        "\n",
        "_todo: import the data, maybe show the first few rows, and describe the data a bit._\n"
      ],
      "id": "d8e9f73a"
    },
    {
      "cell_type": "code",
      "metadata": {},
      "source": [
        "import pandas as pd\n",
        "import numpy as np\n",
        "import scipy as sp\n",
        "import matplotlib.pyplot as plt\n",
        "\n",
        "yogurt = pd.read_csv('/home/jovyan/Desktop/MGTA495-2/projects/Project 3/yogurt_data.csv')\n",
        "yogurt.head()"
      ],
      "id": "795e992e",
      "execution_count": null,
      "outputs": []
    },
    {
      "cell_type": "code",
      "metadata": {},
      "source": [
        "yogurt.shape"
      ],
      "id": "a3cd2e73",
      "execution_count": null,
      "outputs": []
    },
    {
      "cell_type": "code",
      "metadata": {},
      "source": [
        "yogurt[['y1','y2','y3','y4']].sum(axis = 0)"
      ],
      "id": "5c5a72df",
      "execution_count": null,
      "outputs": []
    },
    {
      "cell_type": "code",
      "metadata": {},
      "source": [
        "yogurt.describe()"
      ],
      "id": "d72fc854",
      "execution_count": null,
      "outputs": []
    },
    {
      "cell_type": "markdown",
      "metadata": {},
      "source": [
        "## Dataset Overview:\n",
        "The dataset consists of several columns that capture various aspects of the yogurt purchasing decision. \n",
        "1- ID: A unique identifier for each customer\n",
        "2- y1,y2,y3,y4: Binary indicators representing whether a customer preferred a particulat yogurt brand, 1 being preferred and 0 being not preferred\n",
        "3- f1,f2,f3,f4: Binary indicators showing whether each yogurt was featrued in a promotional display\n",
        "4- p1,p2,p3,p4: Prices of the respective yogurt brabds at the time of purchase\n",
        "\n",
        "## Analysis Goals\n",
        "Using the MNL Model, we aim to achieve the following:\n",
        "1- ```Estimate Customer Preferences```: Determine which yogurt brand is most preferred based on estimated coefficients. \n",
        "2- ```Price Senstivity Analysis```: Understand how changes in prices influence consumer choices. \n",
        "3- ```Market Share Simulation```: Simulate market share changes under different pricing scenarios. \n",
        "\n",
        "\n",
        "Let the vector of product features include brand dummy variables for yogurts 1-3 (we'll omit a dummy for product 4 to avoid multi-collinearity), a dummy variable to indicate if a yogurt was featured, and a continuous variable for the yogurts' prices:  \n",
        "\n",
        "$$ x_j' = [\\mathbbm{1}(\\text{Yogurt 1}), \\mathbbm{1}(\\text{Yogurt 2}), \\mathbbm{1}(\\text{Yogurt 3}), X_f, X_p] $$\n",
        "\n",
        "$k$, and product $j$) instead of the typical 2 dimensions for cross-sectional regression models (consumer $i$ and covariate $k$). \n",
        "\n",
        "What we would like to do is reorganize the data from a \"wide\" shape with $n$ rows and multiple columns for each covariate, to a \"long\" shape with $n \\times J$ rows and a single column for each covariate.  As part of this re-organization, we'll add binary variables to indicate the first 3 products; the variables for featured and price are included in the dataset and simply need to be \"pivoted\" or \"melted\" from wide to long.  \n",
        "\n",
        "Reshape and prep the data: The \"hard part\" of the MNL likelihood function is organizing the data, as we need to keep track of 3 dimensions (consumer $i$, covariate) \n"
      ],
      "id": "ac98b5ad"
    },
    {
      "cell_type": "code",
      "metadata": {},
      "source": [
        "yogurt_long = pd.wide_to_long(yogurt, stubnames=['y','f', 'p'], i=['id'], j='product').reset_index()\n",
        "\n",
        "# Add product brand dummies\n",
        "yogurt_long['yogurt1'] = (yogurt_long['product'] == 1).astype(int)\n",
        "yogurt_long['yogurt2'] = (yogurt_long['product'] == 2).astype(int)\n",
        "yogurt_long['yogurt3'] = (yogurt_long['product'] == 3).astype(int)\n",
        "\n",
        "# Filter for actual choices\n",
        "#yogurt_long = yogurt_long[yogurt_long['y'] == 1]\n",
        "\n",
        "# Rename columns and drop unnecessary ones\n",
        "yogurt_long.rename(columns={'f': 'featured', 'p': 'price'}, inplace=True)\n",
        "\n",
        "# Display the DataFrame\n",
        "yogurt_features= yogurt_long[['yogurt1','yogurt2','yogurt3','featured','price']]\n",
        "yogurt_long"
      ],
      "id": "7cf27e9f",
      "execution_count": null,
      "outputs": []
    },
    {
      "cell_type": "markdown",
      "metadata": {},
      "source": [
        "### Estimation\n"
      ],
      "id": "3fdf9483"
    },
    {
      "cell_type": "code",
      "metadata": {},
      "source": [
        "yogurt_labels = np.reshape(yogurt[['y1','y2','y3','y4']],(-1, ))\n",
        "yogurt_labels.shape \n",
        "\n",
        "yogurt_id = yogurt['id'].repeat(4).reset_index(drop = True)\n"
      ],
      "id": "d66084b5",
      "execution_count": null,
      "outputs": []
    },
    {
      "cell_type": "markdown",
      "metadata": {},
      "source": [
        "```The log-likelihood function```"
      ],
      "id": "85d7eaad"
    },
    {
      "cell_type": "code",
      "metadata": {},
      "source": [
        "def multi_ll(beta, y, x, ids):\n",
        "    \n",
        "    x= x.to_numpy()\n",
        "    prob = np.exp(x.dot(beta))\n",
        "    df = pd.DataFrame({'prob':prob,'ids':ids})\n",
        "    #sum = df.groupby('ids')['prob'].sum().repeat(4).reset_index(drop= True)\n",
        "    sum_prob = df.groupby('ids')['prob'].transform('sum')\n",
        "    probs = prob/sum_prob\n",
        "    return -np.log(probs).sum()"
      ],
      "id": "10a08c07",
      "execution_count": null,
      "outputs": []
    },
    {
      "cell_type": "code",
      "metadata": {},
      "source": [
        "beta = np.ones(5)*0\n",
        "y= yogurt_labels\n",
        "x= yogurt_features\n",
        "i= yogurt_id\n",
        "x= x.to_numpy()\n",
        "prob = np.exp(x.dot(beta))\n",
        "df = pd.DataFrame({'prob':prob,'ids':i})\n",
        "sum = df.groupby('ids')['prob'].transform('sum')\n",
        "probs = prob/sum \n",
        "-np.log(probs).sum()\n",
        "\n",
        "\n",
        "````\n",
        "\n",
        "\n",
        "```{python}\n",
        "\n",
        "#yogurt_features.shape\n",
        "yogurt_labels.shape"
      ],
      "id": "31e049b3",
      "execution_count": null,
      "outputs": []
    },
    {
      "cell_type": "markdown",
      "metadata": {},
      "source": [
        "Finding the MLEs for the 5 parameters ($\\beta_1, \\beta_2, \\beta_3, \\beta_f, \\beta_p$). \n"
      ],
      "id": "96f57f02"
    },
    {
      "cell_type": "code",
      "metadata": {},
      "source": [
        "# result = sp.optimize.minimize(multi_ll,np.ones(5)*0.1,(yogurt_labels, yogurt_features, yogurt_id),method = 'L-BFGS-B', options = {'gtol':1e-5, 'maxiter':500})\n",
        "# print (result.x)\n",
        "\n",
        "# Perform the optimization again\n",
        "beta_initial = np.ones(5) * 0.1  # Ensure the initial beta values are reasonable\n",
        "result = sp.optimize.minimize(multi_ll, beta_initial, (yogurt_labels, yogurt_features, yogurt_id), method='L-BFGS-B', options={'gtol': 1e-5, 'maxiter': 50})"
      ],
      "id": "32540bb7",
      "execution_count": null,
      "outputs": []
    },
    {
      "cell_type": "markdown",
      "metadata": {},
      "source": [
        "### Discussion\n",
        "\n",
        "Looking at the intercepts (0.09970444, 0.10002663 and -0.0056015) we can infer that yogurt 2 was the most preferred and yogurt 3 is the least preferred. \n",
        "\n",
        "Taking the diffnce between the beta of the most preferred and the least preferred ygurt we can estimate the price difference consumers are willing to pay for their preferred brand. \n",
        "As long as the most preferred yogurt was 12.75 cents/oz more expensive than the least preferred yogurt, consumers are willing to make that extra spend to go after thier preferred brand.  \n"
      ],
      "id": "8f095a45"
    },
    {
      "cell_type": "code",
      "metadata": {},
      "source": [
        "intercepts = result.x[:3]  \n",
        "most_preferred = np.argmax(intercepts)\n",
        "least_preferred = np.argmin(intercepts)\n",
        "\n",
        "print(\"Intercepts for Yogurt 1, 2, and 3:\", intercepts)\n",
        "print(\"Most preferred yogurt is:\", most_preferred + 1)\n",
        "print(\"Least preferred yogurt is:\", least_preferred + 1)"
      ],
      "id": "03340cc4",
      "execution_count": null,
      "outputs": []
    },
    {
      "cell_type": "code",
      "metadata": {},
      "source": [
        "#(0.10002663 +0.0056015) /0.00828118\n",
        "\n",
        "price_coefficient = result.x[-1]  # Assuming the last coefficient is the price\n",
        "dollar_benefit = (intercepts[most_preferred] - intercepts[least_preferred]) * -price_coefficient\n",
        "\n",
        "print(\"Dollar benefit between the most and least preferred yogurt:\", dollar_benefit)\n"
      ],
      "id": "5da4e4e7",
      "execution_count": null,
      "outputs": []
    },
    {
      "cell_type": "markdown",
      "metadata": {},
      "source": [
        "One benefit of the MNL model is that we can simulate counterfactuals (eg, what if the price of yogurt 1 was $0.10/oz instead of $0.08/oz).\n",
        "\n",
        "### Market Share Analysis of Yogurt Brands\n",
        "In our analysis of consumer prefrences for yogurt brands, we utilized the Multinomial Logit (MNL) model to estimate the current market shares and simulate the impact of a price change on consumer choices. Following results were obtained: \n",
        "The estimated market shares indicated that 100% of the market share was attibuted to Yogurt 1:\n",
        "- Yogurt 1: 100%\n",
        "- Yogurt 2: 0%\n",
        "- Yogurt 3: 0%\n",
        "- Yogurt 4: 0%\n",
        "```Impact of Price Increase on Yogurt 1```\n",
        "To understand the sensitivity of consumer choices to price changes, we simulated a scenario where the price of Yogurt 1 was increased by $0.10 per unit. The new market shares after this price increase remained unchanged:\n",
        "\n",
        "Yogurt 1: 100%\n",
        "Yogurt 2: 0%\n",
        "Yogurt 3: 0%\n",
        "Yogurt 4: 0%\n",
        "Key Insights\n",
        "Uniform Preference: The current results indicate a uniform preference for Yogurt 1 among all consumers in the dataset. This outcome suggests that either all consumers chose Yogurt 1 or there is a potential issue with the dataset or model.\n",
        "\n",
        "Price Insensitivity: Despite increasing the price of Yogurt 1 by $0.10, the market share for Yogurt 1 did not decrease. This implies that, within the context of the data and model, consumers are not sensitive to this price change.\n",
        "\n",
        "Further Investigation Needed: The results are surprising and may indicate an underlying issue with the data or model. It is important to verify the dataset to ensure it accurately represents a diverse set of consumer preferences and to reassess the MNL model implementation to confirm it is correctly specified.\n",
        "\n",
        "Conclusion\n",
        "Our initial and revised analyses using the Multinomial Logit model both yielded unexpected results, with 100% of market share attributed to Yogurt 1 regardless of a price increase. This highlights the importance of data and model validation in ensuring accurate and meaningful insights. By addressing these potential issues, we can better understand consumer preferences and market dynamics, ultimately guiding more effective pricing and promotional strategies.\n"
      ],
      "id": "e66b01f5"
    },
    {
      "cell_type": "code",
      "metadata": {},
      "source": [
        "def calculate_market_shares(beta, features):\n",
        "    utilities = np.dot(features, beta)\n",
        "    exp_utilities = np.exp(utilities)\n",
        "    \n",
        "    # Ensure exp_utilities is a 2D array for summing along axis 1\n",
        "    if exp_utilities.ndim == 1:\n",
        "        exp_utilities = exp_utilities.reshape(-1, 1)\n",
        "    \n",
        "    shares = exp_utilities / np.sum(exp_utilities, axis=1, keepdims=True)\n",
        "    return shares.mean(axis=0)\n",
        "\n",
        "# Current market shares\n",
        "current_shares = calculate_market_shares(result.x, yogurt_features)\n",
        "print(\"Current market shares:\", current_shares)\n",
        "\n",
        "# Simulate price increase for yogurt1\n",
        "yogurt_features_adjusted = yogurt_features.copy()\n",
        "yogurt_features_adjusted.loc[yogurt_features_adjusted['yogurt1'] == 1, 'price'] += 0.10\n",
        "\n",
        "# New market shares after price increase\n",
        "new_shares = calculate_market_shares(result.x, yogurt_features_adjusted)\n",
        "print(\"New market shares after price increase to yogurt 1:\", new_shares)\n",
        "\n",
        "# Check if the market shares for yogurt 1 decrease\n",
        "print(\"Do the yogurt 1 market shares decrease?\", \"Yes\" if new_shares[0] < current_shares[0] else \"No\")\n"
      ],
      "id": "56f1b4c7",
      "execution_count": null,
      "outputs": []
    },
    {
      "cell_type": "code",
      "metadata": {},
      "source": [
        "print(\"Shape of beta:\", beta.shape)\n",
        "print(\"Shape of yogurt_features:\", yogurt_features.shape)"
      ],
      "id": "96612270",
      "execution_count": null,
      "outputs": []
    },
    {
      "cell_type": "markdown",
      "metadata": {},
      "source": [
        "## 2. Estimating Minivan Preferences\n",
        "\n",
        "\n",
        "### Data\n",
        "\n",
        "_todo: download the dataset from here:_ http://goo.gl/5xQObB \n",
        "\n",
        "_todo: describe the data a bit. How many respondents took the conjoint survey?  How many choice tasks did each respondent complete?  How many alternatives were presented on each choice task? For each alternative._\n"
      ],
      "id": "44fba501"
    },
    {
      "cell_type": "code",
      "metadata": {},
      "source": [
        "data = pd.read_csv(\"/home/jovyan/Desktop/MGTA495-2/projects/Project 3/rintro-chapter13conjoint.csv\")"
      ],
      "id": "18c6cac7",
      "execution_count": null,
      "outputs": []
    },
    {
      "cell_type": "code",
      "metadata": {},
      "source": [
        "data.head()"
      ],
      "id": "a2e5b337",
      "execution_count": null,
      "outputs": []
    },
    {
      "cell_type": "code",
      "metadata": {},
      "source": [
        "data['resp.id'].nunique()\n"
      ],
      "id": "d9d4ccc9",
      "execution_count": null,
      "outputs": []
    },
    {
      "cell_type": "code",
      "metadata": {},
      "source": [
        "data['ques'].nunique()\n"
      ],
      "id": "cf117403",
      "execution_count": null,
      "outputs": []
    },
    {
      "cell_type": "code",
      "metadata": {},
      "source": [
        "data['alt'].nunique()\n"
      ],
      "id": "01185d6c",
      "execution_count": null,
      "outputs": []
    },
    {
      "cell_type": "code",
      "metadata": {},
      "source": [
        "data.shape\n"
      ],
      "id": "16f2d433",
      "execution_count": null,
      "outputs": []
    },
    {
      "cell_type": "markdown",
      "metadata": {},
      "source": [
        "Ans 15 sets of choices each set has 3 alternatives and 200 participants. each participant has 45 row data 1 for each choice alternative \n",
        "\n",
        "The attributes (levels) were number of seats (6,7,8), cargo space (2ft, 3ft), engine type (gas, hybrid, electric), and price (in thousands of dollars).\n",
        "\n",
        "### Model\n",
        "\n",
        "_todo: estimate a MNL model omitting the following levels to avoide multicollinearity (6 seats, 2ft cargo, and gas engine). Include price as a continuous variable. Show a table of coefficients and standard errors.  You may use your own likelihood function from above, or you may use a function from a package/library to perform the estimation._  \n"
      ],
      "id": "5783f715"
    },
    {
      "cell_type": "code",
      "metadata": {},
      "source": [
        "from patsy import dmatrices\n",
        "import statsmodels.api as sm\n",
        "\n",
        "# Define the formula for the model\n",
        "# Using 7 seats, 3ft cargo, and hybrid engine as base levels\n",
        "formula = 'choice ~ C(seat, Treatment(6)) + C(cargo, Treatment(\"2ft\")) + C(eng, Treatment(\"gas\")) + price'\n",
        "\n",
        "# Create design matrices\n",
        "y, X = dmatrices(formula, data, return_type='dataframe')\n",
        "\n",
        "# Fit the MNL model\n",
        "mnl_model = sm.MNLogit(y, X)\n",
        "mnl_result = mnl_model.fit()\n",
        "\n",
        "# Display the summary of the model including coefficients and standard errors\n",
        "mnl_result.summary()\n"
      ],
      "id": "d9291ef3",
      "execution_count": null,
      "outputs": []
    },
    {
      "cell_type": "markdown",
      "metadata": {},
      "source": [
        "### Results\n",
        "\n",
        "_todo: Interpret the coefficients. Which features are more preferred?_\n",
        "Compared to 8 seats, comsumers prefer 6 seats. in terms of cargo they prefer 3 ft over 2 ft of cargo. and gas engine over hybrid or electric  and they prefer low prices \n",
        "_todo: Use the price coefficient as a dollar-per-util conversion factor. What is the dollar value of 3ft of cargo space as compared to 2ft of cargo space?_\n"
      ],
      "id": "8611fae5"
    },
    {
      "cell_type": "code",
      "metadata": {},
      "source": [
        "# Extract the price coefficient\n",
        "price_coef = mnl_result.params.loc['price'][0]\n",
        "\n",
        "# Extract the coefficient for cargo space (3ft vs 2ft)\n",
        "cargo_coef = mnl_result.params.loc['C(cargo, Treatment(\"2ft\"))[T.3ft]'][0]\n",
        "\n",
        "# Calculate the dollar value of 3ft of cargo space compared to 2ft\n",
        "dollar_value_cargo = -cargo_coef / price_coef\n",
        "dollar_value_cargo\n"
      ],
      "id": "8f969d48",
      "execution_count": null,
      "outputs": []
    },
    {
      "cell_type": "markdown",
      "metadata": {},
      "source": [
        "willing to pay $2750 for 1ft extra cargo space \n",
        "_todo: assume the market consists of the following 6 minivans. Predict the market shares of each minivan in the market._\n",
        "\n",
        "| Minivan | Seats | Cargo | Engine | Price |\n",
        "|---------|-------|-------|--------|-------|\n",
        "| A       | 7     | 2     | Hyb    | 30    |\n",
        "| B       | 6     | 2     | Gas    | 30    |\n",
        "| C       | 8     | 2     | Gas    | 30    |\n",
        "| D       | 7     | 3     | Gas    | 40    |\n",
        "| E       | 6     | 2     | Elec   | 40    |\n",
        "| F       | 7     | 2     | Hyb    | 35    |\n"
      ],
      "id": "923c7f8e"
    },
    {
      "cell_type": "code",
      "metadata": {},
      "source": [
        "new_data = pd.DataFrame({\"minivan\":['A','B','C','D','E','F'],\n",
        "'Ones':[1,1,1,1,1,1],\n",
        "'seats':['7','6','8','7','6','7'],\n",
        "'cargo':['2','2','2','3','2','2'],\n",
        "'engine':['Hyb','Gas','Gas','Gas', 'Elec','Hyb'],\n",
        "'price':[30,30,30,40,40,35]})\n",
        "new_data = pd.get_dummies(new_data,columns = ['seats','cargo','engine'])\n",
        "new_data = new_data[['Ones','seats_7', 'seats_8', 'cargo_3', 'engine_Elec', 'engine_Hyb', 'price']].to_numpy()\n",
        "probabilities = mnl_model.predict(new_data)\n",
        "probabilities"
      ],
      "id": "724ac782",
      "execution_count": null,
      "outputs": []
    },
    {
      "cell_type": "code",
      "metadata": {},
      "source": [
        "from numpy.linalg import cholesky\n",
        "from scipy.stats import multivariate_normal\n",
        "\n",
        "def predict_hier_mnl(model, data, nresp=1000):\n",
        "    \"\"\"\n",
        "    Function to predict shares from a hierarchical multinomial logit model.\n",
        "    - model: Should be a dictionary containing 'coef' and 'cov' from a fitted model.\n",
        "    - data: DataFrame containing the set of designs for which you want to predict shares.\n",
        "    - nresp: Number of respondents for simulation.\n",
        "    \"\"\"\n",
        "    # Extract model information\n",
        "    coef_mu = model['coef']\n",
        "    coef_sigma = model['cov']\n",
        "    \n",
        "    # Generate draws from the multivariate normal distribution\n",
        "    draws = multivariate_normal.rvs(mean=coef_mu, cov=coef_sigma, size=nresp)\n",
        "    \n",
        "    # Calculate utilities for each design and respondent\n",
        "    utilities = np.dot(data, draws.T)\n",
        "    \n",
        "    # Calculate the exponent of utilities\n",
        "    exp_utilities = np.exp(utilities)\n",
        "    \n",
        "    # Calculate shares by normalizing the exponentiated utilities\n",
        "    shares = exp_utilities / exp_utilities.sum(axis=1, keepdims=True)\n",
        "    \n",
        "    # Calculate the average share across all respondents\n",
        "    mean_shares = shares.mean(axis=0)\n",
        "    \n",
        "    # Combine mean shares with the original data\n",
        "    result = data.copy()\n",
        "    result['Predicted Share'] = mean_shares\n",
        "    \n",
        "    return result\n",
        "\n",
        "# Example usage\n",
        "# Define your model coefficients and covariance matrix\n",
        "model = {\n",
        "    'coef': np.array([...]),  # Replace [...] with your model coefficients\n",
        "    'cov': np.array([...])    # Replace [...] with your model covariance matrix\n",
        "}\n",
        "\n",
        "# Prepare your data in the correct format as a DataFrame\n",
        "data = pd.DataFrame([...])  # Replace [...] with your data\n",
        "\n",
        "# Predict market shares\n",
        "predicted_shares = predict_hier_mnl(model, data)\n"
      ],
      "id": "1180c05c",
      "execution_count": null,
      "outputs": []
    },
    {
      "cell_type": "markdown",
      "metadata": {},
      "source": [
        "_hint: this example is taken from the \"R 4 Marketing Research\" book by Chapman and Feit. I believe the same example is present in the companion book titled \"Python 4 Marketing Research\".  I encourage you to attempt these questions on your own, but if you get stuck or would like to compare you results to \"the answers,\" you may consult the Chapman and Feit books._\n"
      ],
      "id": "b6510fac"
    }
  ],
  "metadata": {
    "kernelspec": {
      "display_name": "Python 3",
      "language": "python",
      "name": "python3"
    }
  },
  "nbformat": 4,
  "nbformat_minor": 5
}